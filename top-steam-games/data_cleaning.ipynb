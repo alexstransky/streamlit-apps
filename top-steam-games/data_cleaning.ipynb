{
 "cells": [
  {
   "cell_type": "code",
   "execution_count": 8,
   "id": "53d6a3a6-28ae-4430-aa47-69554b9f37b6",
   "metadata": {},
   "outputs": [],
   "source": [
    "import pandas as pd\n",
    "import numpy as np"
   ]
  },
  {
   "cell_type": "code",
   "execution_count": 9,
   "id": "3500f39a-728c-4b25-ae29-28f79463c40a",
   "metadata": {},
   "outputs": [],
   "source": [
    "df = pd.read_csv('steam_top_100_played_games_list.csv')"
   ]
  },
  {
   "cell_type": "code",
   "execution_count": null,
   "id": "543b9b3b",
   "metadata": {},
   "outputs": [],
   "source": [
    "df.head()"
   ]
  },
  {
   "cell_type": "code",
   "execution_count": 11,
   "id": "1e35c8e5-7708-4a87-a6b6-f0e5c0c4ed9d",
   "metadata": {},
   "outputs": [],
   "source": [
    "df['Price Category'] = ['Free' if i == 'Free To Play' else 'Paid' for i in df['Price']]"
   ]
  },
  {
   "cell_type": "code",
   "execution_count": 12,
   "id": "b0437dcb-c4b7-4262-89d5-5f8acfc40b6a",
   "metadata": {},
   "outputs": [],
   "source": [
    "df['Price'] = [\n",
    "    np.nan if i == 'Free To Play'\n",
    "    else float(i.replace('£','')) for i in df['Price']\n",
    "]"
   ]
  },
  {
   "cell_type": "code",
   "execution_count": 17,
   "id": "65f8f455-a415-4f01-8611-85f3d0d04c4f",
   "metadata": {},
   "outputs": [],
   "source": [
    "df['Genre Tag List'] = [\n",
    "    [tag.strip() for tag in i.split(\",\")]\n",
    "    for i in df['Genre Tags']]"
   ]
  },
  {
   "cell_type": "code",
   "execution_count": 25,
   "id": "a8a5992d-940d-48b4-93ca-45d897f32270",
   "metadata": {},
   "outputs": [],
   "source": [
    "df['Current Players'] = [int(i.replace(',','')) for i in df['Current Players']]"
   ]
  },
  {
   "cell_type": "code",
   "execution_count": 26,
   "id": "8573eef8-b2a3-4ecd-87e8-82eebd5c6baf",
   "metadata": {},
   "outputs": [],
   "source": [
    "df['Peak Today'] = [int(i.replace(',','')) for i in df['Peak Today']]"
   ]
  },
  {
   "cell_type": "code",
   "execution_count": 28,
   "id": "1f53d02e-b13b-4f0e-b241-05aa047551b3",
   "metadata": {},
   "outputs": [],
   "source": [
    "df.to_csv('steam_top_100_played_games_clean.csv')"
   ]
  }
 ],
 "metadata": {
  "kernelspec": {
   "display_name": "Python 3 (ipykernel)",
   "language": "python",
   "name": "python3"
  },
  "language_info": {
   "codemirror_mode": {
    "name": "ipython",
    "version": 3
   },
   "file_extension": ".py",
   "mimetype": "text/x-python",
   "name": "python",
   "nbconvert_exporter": "python",
   "pygments_lexer": "ipython3",
   "version": "3.12.9"
  }
 },
 "nbformat": 4,
 "nbformat_minor": 5
}
